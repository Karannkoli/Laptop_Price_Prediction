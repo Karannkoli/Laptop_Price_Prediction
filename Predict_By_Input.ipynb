{
  "nbformat": 4,
  "nbformat_minor": 0,
  "metadata": {
    "colab": {
      "provenance": []
    },
    "kernelspec": {
      "name": "python3",
      "display_name": "Python 3"
    },
    "language_info": {
      "name": "python"
    }
  },
  "cells": [
    {
      "cell_type": "code",
      "source": [
        "import pandas as pd\n",
        "import joblib\n",
        "\n",
        "# Load the trained model\n",
        "model_path = \"/content/drive/MyDrive/Colab Notebooks/ML_Capstone_Project/laptop_price_model.pkl\"  # .pkl model path\n",
        "pipeline = joblib.load(model_path)\n",
        "\n",
        "# Collect input values\n",
        "data = {\n",
        "    \"Company\": [input(\"Enter the company (e.g., Dell, HP, Apple): \")],\n",
        "    \"TypeName\": [input(\"Enter the type (e.g., Notebook, Ultrabook): \")],\n",
        "    \"Inches\": [float(input(\"Enter screen size in inches (e.g., 15.6): \"))],\n",
        "    \"ScreenResolution\": [input(\"Enter screen resolution (e.g., 1920x1080): \")],\n",
        "    \"Cpu\": [input(\"Enter CPU details (e.g., Intel Core i5 7200U 2.5GHz): \")],\n",
        "    \"Ram\": [input(\"Enter RAM size (e.g., 8GB): \")],\n",
        "    \"Memory\": [input(\"Enter storage details (e.g., 256GB SSD): \")],\n",
        "    \"Gpu\": [input(\"Enter GPU details (e.g., Intel HD Graphics 620): \")],\n",
        "    \"OpSys\": [input(\"Enter operating system (e.g., Windows 10, macOS): \")],\n",
        "    \"Weight\": [float(input(\"Enter weight in kg (e.g., 1.86): \"))]\n",
        "}\n",
        "\n",
        "# Convert input into a DataFrame\n",
        "input_data = pd.DataFrame(data)\n",
        "\n",
        "# Predict the price\n",
        "predicted_price = pipeline.predict(input_data)\n",
        "print(f\"Predicted price: {predicted_price[0]}\")\n"
      ],
      "metadata": {
        "colab": {
          "base_uri": "https://localhost:8080/"
        },
        "id": "5PxLfIiU0T2g",
        "outputId": "047821d2-86e0-46b1-cba9-7062e4137a45"
      },
      "execution_count": 2,
      "outputs": [
        {
          "output_type": "stream",
          "name": "stdout",
          "text": [
            "Enter the company (e.g., Dell, HP, Apple): HP\n",
            "Enter the type (e.g., Notebook, Ultrabook): Notebook\n",
            "Enter screen size in inches (e.g., 15.6): 15.6\n",
            "Enter screen resolution (e.g., 1920x1080): 1920x1080\n",
            "Enter CPU details (e.g., Intel Core i5 7200U 2.5GHz): Intel Core i5 7200U 2.5GHz\n",
            "Enter RAM size (e.g., 8GB): 8GB\n",
            "Enter storage details (e.g., 256GB SSD): 256GB SSD\n",
            "Enter GPU details (e.g., Intel HD Graphics 620): Intel HD Graphics 620\n",
            "Enter operating system (e.g., Windows 10, macOS): Windows 10\n",
            "Enter weight in kg (e.g., 1.86): 1.86\n",
            "Predicted price: 43122.349152000046\n"
          ]
        }
      ]
    },
    {
      "cell_type": "code",
      "source": [
        "import pandas as pd\n",
        "import joblib\n",
        "\n",
        "# Load the trained model\n",
        "model_path = \"/content/drive/MyDrive/Colab Notebooks/ML_Capstone_Project/laptop_price_model.pkl\"  # .pkl model path\n",
        "pipeline = joblib.load(model_path)\n",
        "\n",
        "# Load CSV file containing new laptop data\n",
        "file_path = \"/content/drive/MyDrive/Colab Notebooks/ML_Capstone_Project/laptop.csv\"  # .csv file path\n",
        "new_data = pd.read_csv(file_path)\n",
        "\n",
        "# Preprocess the data\n",
        "# Remove 'kg' from Weight, handle invalid values, and convert to float\n",
        "new_data[\"Weight\"] = new_data[\"Weight\"].str.replace(\"kg\", \"\", regex=False)  # Remove 'kg'\n",
        "new_data[\"Weight\"] = new_data[\"Weight\"].replace(\"?\", None)  # Replace invalid values ('?') with None\n",
        "new_data[\"Weight\"] = pd.to_numeric(new_data[\"Weight\"], errors=\"coerce\")  # Convert to numeric, setting invalid to NaN\n",
        "new_data[\"Weight\"].fillna(new_data[\"Weight\"].mean(), inplace=True)  # Replace NaN with mean value\n",
        "\n",
        "# Display the data to let the user choose a row\n",
        "print(\"Uploaded data:\")\n",
        "print(new_data)\n",
        "\n",
        "# Select a row (e.g., row 0)\n",
        "row_index = int(input(\"Enter the row number to predict price: \"))\n",
        "selected_row = new_data.iloc[row_index:row_index+1]\n",
        "\n",
        "# Ensure the selected row matches the input schema of the model\n",
        "selected_row = selected_row[pipeline.feature_names_in_]  # Select only the model-relevant columns\n",
        "\n",
        "# Predict the price\n",
        "predicted_price = pipeline.predict(selected_row)\n",
        "print(f\"Predicted price for row {row_index}: {predicted_price[0]}\")\n"
      ],
      "metadata": {
        "colab": {
          "base_uri": "https://localhost:8080/"
        },
        "id": "e_P24Xsbl5yc",
        "outputId": "6a9475a5-de62-4bbb-bdae-b4d500e2c1cb"
      },
      "execution_count": 3,
      "outputs": [
        {
          "output_type": "stream",
          "name": "stderr",
          "text": [
            "<ipython-input-3-6d0e699bdeb1>:17: FutureWarning: A value is trying to be set on a copy of a DataFrame or Series through chained assignment using an inplace method.\n",
            "The behavior will change in pandas 3.0. This inplace method will never work because the intermediate object on which we are setting values always behaves as a copy.\n",
            "\n",
            "For example, when doing 'df[col].method(value, inplace=True)', try using 'df.method({col: value}, inplace=True)' or df[col] = df[col].method(value) instead, to perform the operation inplace on the original object.\n",
            "\n",
            "\n",
            "  new_data[\"Weight\"].fillna(new_data[\"Weight\"].mean(), inplace=True)  # Replace NaN with mean value\n"
          ]
        },
        {
          "output_type": "stream",
          "name": "stdout",
          "text": [
            "Uploaded data:\n",
            "      Unnamed: 0.1  Unnamed: 0 Company            TypeName Inches  \\\n",
            "0                0         0.0   Apple           Ultrabook   13.3   \n",
            "1                1         1.0   Apple           Ultrabook   13.3   \n",
            "2                2         2.0      HP            Notebook   15.6   \n",
            "3                3         3.0   Apple           Ultrabook   15.4   \n",
            "4                4         4.0   Apple           Ultrabook   13.3   \n",
            "...            ...         ...     ...                 ...    ...   \n",
            "1298          1298      1298.0  Lenovo  2 in 1 Convertible     14   \n",
            "1299          1299      1299.0  Lenovo  2 in 1 Convertible   13.3   \n",
            "1300          1300      1300.0  Lenovo            Notebook     14   \n",
            "1301          1301      1301.0      HP            Notebook   15.6   \n",
            "1302          1302      1302.0    Asus            Notebook   15.6   \n",
            "\n",
            "                                ScreenResolution  \\\n",
            "0             IPS Panel Retina Display 2560x1600   \n",
            "1                                       1440x900   \n",
            "2                              Full HD 1920x1080   \n",
            "3             IPS Panel Retina Display 2880x1800   \n",
            "4             IPS Panel Retina Display 2560x1600   \n",
            "...                                          ...   \n",
            "1298   IPS Panel Full HD / Touchscreen 1920x1080   \n",
            "1299  IPS Panel Quad HD+ / Touchscreen 3200x1800   \n",
            "1300                                    1366x768   \n",
            "1301                                    1366x768   \n",
            "1302                                    1366x768   \n",
            "\n",
            "                                       Cpu   Ram               Memory  \\\n",
            "0                     Intel Core i5 2.3GHz   8GB            128GB SSD   \n",
            "1                     Intel Core i5 1.8GHz   8GB  128GB Flash Storage   \n",
            "2               Intel Core i5 7200U 2.5GHz   8GB            256GB SSD   \n",
            "3                     Intel Core i7 2.7GHz  16GB            512GB SSD   \n",
            "4                     Intel Core i5 3.1GHz   8GB            256GB SSD   \n",
            "...                                    ...   ...                  ...   \n",
            "1298            Intel Core i7 6500U 2.5GHz   4GB            128GB SSD   \n",
            "1299            Intel Core i7 6500U 2.5GHz  16GB            512GB SSD   \n",
            "1300  Intel Celeron Dual Core N3050 1.6GHz   2GB   64GB Flash Storage   \n",
            "1301            Intel Core i7 6500U 2.5GHz   6GB              1TB HDD   \n",
            "1302  Intel Celeron Dual Core N3050 1.6GHz   4GB            500GB HDD   \n",
            "\n",
            "                               Gpu       OpSys  Weight        Price  \n",
            "0     Intel Iris Plus Graphics 640       macOS    1.37   71378.6832  \n",
            "1           Intel HD Graphics 6000       macOS    1.34   47895.5232  \n",
            "2            Intel HD Graphics 620       No OS    1.86   30636.0000  \n",
            "3               AMD Radeon Pro 455       macOS    1.83  135195.3360  \n",
            "4     Intel Iris Plus Graphics 650       macOS    1.37   96095.8080  \n",
            "...                            ...         ...     ...          ...  \n",
            "1298         Intel HD Graphics 520  Windows 10    1.80   33992.6400  \n",
            "1299         Intel HD Graphics 520  Windows 10    1.30   79866.7200  \n",
            "1300             Intel HD Graphics  Windows 10    1.50   12201.1200  \n",
            "1301            AMD Radeon R5 M330  Windows 10    2.19   40705.9200  \n",
            "1302             Intel HD Graphics  Windows 10    2.20   19660.3200  \n",
            "\n",
            "[1303 rows x 13 columns]\n",
            "Enter the row number to predict price: 12\n",
            "Predicted price for row 12: 128661.76411200008\n"
          ]
        }
      ]
    }
  ]
}